{
 "cells": [
  {
   "cell_type": "markdown",
   "metadata": {},
   "source": [
    "# Machine Learning with Python"
   ]
  },
  {
   "cell_type": "markdown",
   "id": "40eabebd",
   "metadata": {},
   "source": [
    "## 1.5 Project"
   ]
  },
  {
   "cell_type": "markdown",
   "id": "f7370c55",
   "metadata": {},
   "source": [
    "### 0\n",
    "\n",
    "Find a dataset that interests you that will be suitable for *supervised learning*:\n",
    "\n",
    "At least one of the variables should be a *target* value that would be interesting to predict.\n",
    "This will be either\n",
    "* a class label (for classification) or \n",
    "* a numerical value (for regression)\n",
    "\n",
    "There should be sufficient features to make the problem interesting - at least 4 non-target columns.\n",
    "\n",
    "There should be sufficient data points to allow for meaningful cross-validation - at least 100 rows.\n",
    "\n",
    "(But not so many that it becomes difficult to handle and visualise the data!)\n",
    "\n",
    "Your dataset could be loaded directly from [OpenML](https://www.openml.org) or from a CSV file that you have prepared."
   ]
  },
  {
   "cell_type": "code",
   "execution_count": null,
   "metadata": {},
   "outputs": [],
   "source": []
  },
  {
   "cell_type": "markdown",
   "metadata": {},
   "source": [
    "### 1\n",
    "\n",
    "Produce a visualisation of the whole dataset using a dimensionality reduction technique of your choice."
   ]
  },
  {
   "cell_type": "code",
   "execution_count": null,
   "metadata": {},
   "outputs": [],
   "source": []
  },
  {
   "cell_type": "markdown",
   "metadata": {},
   "source": [
    "### 2\n",
    "Apply a clustering algorithm to the data and evaluate the results in an appropriate way."
   ]
  },
  {
   "cell_type": "code",
   "execution_count": null,
   "metadata": {},
   "outputs": [],
   "source": []
  }
 ],
 "metadata": {
  "kernelspec": {
   "display_name": "Python 3",
   "language": "python",
   "name": "python3"
  },
  "language_info": {
   "codemirror_mode": {
    "name": "ipython",
    "version": 3
   },
   "file_extension": ".py",
   "mimetype": "text/x-python",
   "name": "python",
   "nbconvert_exporter": "python",
   "pygments_lexer": "ipython3",
   "version": "3.8.3"
  }
 },
 "nbformat": 4,
 "nbformat_minor": 5
}
