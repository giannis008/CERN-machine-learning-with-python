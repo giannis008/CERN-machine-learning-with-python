{
 "cells": [
  {
   "cell_type": "markdown",
   "metadata": {},
   "source": [
    "# Machine Learning with Python"
   ]
  },
  {
   "cell_type": "markdown",
   "metadata": {},
   "source": [
    "## 1.1 Preliminaries"
   ]
  },
  {
   "cell_type": "markdown",
   "metadata": {},
   "source": [
    "### Welcome!\n",
    "\n",
    "This material is designed to follow on from the *Introduction to Machine Learning* course, with the aim of bringing the theory into practice using the Python programming language, and in particular the `scikit-learn` library.\n",
    "\n",
    "### Intended Learning Outcomes\n",
    "\n",
    "After completing this workshop, you will be better able to:\n",
    "\n",
    "* Explain the difference between supervised and unsupervised learning.\n",
    "* Select a suitable machine learning method for a given application.\n",
    "* Prepare your own training and testing data sets.\n",
    "* Evaluate the performance of a machine learning experiment.\n",
    "\n"
   ]
  },
  {
   "cell_type": "markdown",
   "metadata": {},
   "source": [
    "### Textbook\n",
    "\n",
    "This course makes use of material from [*Introduction to Machine Learning with Python*](http://ebookcentral.proquest.com/lib/imperial/detail.action?docID=4698164) by Andreas C. Müller and Sarah Guido. \n",
    "\n",
    "You will not need the book to understand the course, but you may find it a useful source for further learning.\n"
   ]
  },
  {
   "cell_type": "markdown",
   "metadata": {},
   "source": [
    "### [scikit-learn](https://scikit-learn.org/)\n",
    "\n",
    "This is the most popular and comprehensive machine learning package for Python.\n",
    "\n",
    "There is extensive [documentation](https://scikit-learn.org/stable/api/index.html) available, plus a [user guide](https://scikit-learn.org/stable/user_guide.html) and [examples](https://scikit-learn.org/stable/auto_examples/index.html).\n",
    "\n",
    "scikit-learn aims to have a consistent interface across different machine learning methods for the same task, so it is both flexible and relatively easy to use.\n",
    "\n",
    "You may find this [glossary](https://scikit-learn.org/stable/glossary.html) a useful reference to technical terms, methods and attributes.\n"
   ]
  },
  {
   "cell_type": "markdown",
   "metadata": {},
   "source": [
    "### Helper packages\n",
    "\n",
    "There are a number of other packages on which scikit-learn is built. This course does not require extensive knowledge of them, but you may find it useful to learn more about them:\n",
    "\n",
    "* The core numerical computing package, [numpy](https://numpy.org)\n",
    "* The data handling package, [pandas](https://pandas.pydata.org)\n",
    "* The data visualisation package, [matplotlib](https://matplotlib.org)\n",
    "\n"
   ]
  },
  {
   "cell_type": "markdown",
   "id": "4e1bfbc2",
   "metadata": {},
   "source": [
    "### Overview of the course\n",
    "\n",
    "#### Part 1: Getting started with scikit-learn\n",
    "*\tOverview of packages \n",
    "*\tHandling datasets \n",
    "*\tUnsupervised learning\n",
    "*\tDimensionality Reduction \n",
    "*\tClustering methods \n",
    "\n",
    "#### Part 2: Supervised learning \n",
    "*\tSupervised learning\n",
    "*\tClassification methods \n",
    "*\tRegression methods \n",
    "*\tEvaluation of performance \n",
    "\n",
    "#### Part 3: Improving performance\n",
    "*\tCross-validation\n",
    "*\tROC curves \n",
    "*\tGrid search for optimal hyperparameters\n",
    "\n",
    "#### Part 4: Learning with time series\n",
    "*\tWhat’s special about time series?\n",
    "*\tAutocorrelation\n",
    "*\tClustering time series\n",
    "*\tForecasting\n"
   ]
  },
  {
   "cell_type": "markdown",
   "id": "ab0a6768",
   "metadata": {},
   "source": []
  }
 ],
 "metadata": {
  "kernelspec": {
   "display_name": "Python 3",
   "language": "python",
   "name": "python3"
  },
  "language_info": {
   "codemirror_mode": {
    "name": "ipython",
    "version": 3
   },
   "file_extension": ".py",
   "mimetype": "text/x-python",
   "name": "python",
   "nbconvert_exporter": "python",
   "pygments_lexer": "ipython3",
   "version": "3.8.3"
  }
 },
 "nbformat": 4,
 "nbformat_minor": 5
}
