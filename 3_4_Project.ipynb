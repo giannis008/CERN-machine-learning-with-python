{
 "cells": [
  {
   "cell_type": "markdown",
   "id": "e9f7bc81",
   "metadata": {},
   "source": [
    "# Machine Learning with Python"
   ]
  },
  {
   "cell_type": "markdown",
   "id": "bad1c5cb",
   "metadata": {},
   "source": [
    "## 3.4 Project"
   ]
  },
  {
   "cell_type": "markdown",
   "id": "f825c280",
   "metadata": {},
   "source": [
    "### 1\n",
    "\n",
    "Choose a supervised learning method. \n",
    "\n",
    "Use GridSearchCV to find appropriate hyperparameter values that optimise performance on your training data."
   ]
  },
  {
   "cell_type": "code",
   "execution_count": null,
   "id": "cc87cc90",
   "metadata": {},
   "outputs": [],
   "source": []
  },
  {
   "cell_type": "markdown",
   "id": "28546784",
   "metadata": {},
   "source": [
    "### 2\n",
    "Fixing your preferred hyperparameter settings, use cross-validation to explore the outputs of your model (coefficients, feature importances etc.). \n",
    "\n",
    "If appropriate, make visualisations to show their values and stability."
   ]
  },
  {
   "cell_type": "code",
   "execution_count": null,
   "metadata": {},
   "outputs": [],
   "source": []
  }
 ],
 "metadata": {
  "kernelspec": {
   "display_name": "Python 3",
   "language": "python",
   "name": "python3"
  },
  "language_info": {
   "codemirror_mode": {
    "name": "ipython",
    "version": 3
   },
   "file_extension": ".py",
   "mimetype": "text/x-python",
   "name": "python",
   "nbconvert_exporter": "python",
   "pygments_lexer": "ipython3",
   "version": "3.8.3"
  }
 },
 "nbformat": 4,
 "nbformat_minor": 5
}
