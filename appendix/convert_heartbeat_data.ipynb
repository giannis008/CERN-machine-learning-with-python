{
 "cells": [
  {
   "cell_type": "markdown",
   "metadata": {},
   "source": [
    "Using data from https://www.kaggle.com/datasets/kinguistics/heartbeat-sounds\n",
    "\n",
    "with [librosa](https://librosa.org/doc/latest/index.html) audio processing library."
   ]
  },
  {
   "cell_type": "code",
   "execution_count": 12,
   "metadata": {},
   "outputs": [],
   "source": [
    "import pandas as pd\n",
    "import numpy as np\n",
    "import matplotlib.pyplot as plt"
   ]
  },
  {
   "cell_type": "markdown",
   "metadata": {},
   "source": [
    "Load metadata table for heartbeat audio files."
   ]
  },
  {
   "cell_type": "code",
   "execution_count": 46,
   "metadata": {},
   "outputs": [
    {
     "data": {
      "text/html": [
       "<div>\n",
       "<style scoped>\n",
       "    .dataframe tbody tr th:only-of-type {\n",
       "        vertical-align: middle;\n",
       "    }\n",
       "\n",
       "    .dataframe tbody tr th {\n",
       "        vertical-align: top;\n",
       "    }\n",
       "\n",
       "    .dataframe thead th {\n",
       "        text-align: right;\n",
       "    }\n",
       "</style>\n",
       "<table border=\"1\" class=\"dataframe\">\n",
       "  <thead>\n",
       "    <tr style=\"text-align: right;\">\n",
       "      <th></th>\n",
       "      <th>dataset</th>\n",
       "      <th>fname</th>\n",
       "      <th>label</th>\n",
       "      <th>sublabel</th>\n",
       "    </tr>\n",
       "  </thead>\n",
       "  <tbody>\n",
       "    <tr>\n",
       "      <th>0</th>\n",
       "      <td>b</td>\n",
       "      <td>set_b/Btraining_extrastole_127_1306764300147_C...</td>\n",
       "      <td>extrastole</td>\n",
       "      <td>NaN</td>\n",
       "    </tr>\n",
       "    <tr>\n",
       "      <th>1</th>\n",
       "      <td>b</td>\n",
       "      <td>set_b/Btraining_extrastole_128_1306344005749_A...</td>\n",
       "      <td>extrastole</td>\n",
       "      <td>NaN</td>\n",
       "    </tr>\n",
       "    <tr>\n",
       "      <th>2</th>\n",
       "      <td>b</td>\n",
       "      <td>set_b/Btraining_extrastole_130_1306347376079_D...</td>\n",
       "      <td>extrastole</td>\n",
       "      <td>NaN</td>\n",
       "    </tr>\n",
       "    <tr>\n",
       "      <th>3</th>\n",
       "      <td>b</td>\n",
       "      <td>set_b/Btraining_extrastole_134_1306428161797_C...</td>\n",
       "      <td>extrastole</td>\n",
       "      <td>NaN</td>\n",
       "    </tr>\n",
       "    <tr>\n",
       "      <th>4</th>\n",
       "      <td>b</td>\n",
       "      <td>set_b/Btraining_extrastole_138_1306762146980_B...</td>\n",
       "      <td>extrastole</td>\n",
       "      <td>NaN</td>\n",
       "    </tr>\n",
       "  </tbody>\n",
       "</table>\n",
       "</div>"
      ],
      "text/plain": [
       "  dataset                                              fname       label  \\\n",
       "0       b  set_b/Btraining_extrastole_127_1306764300147_C...  extrastole   \n",
       "1       b  set_b/Btraining_extrastole_128_1306344005749_A...  extrastole   \n",
       "2       b  set_b/Btraining_extrastole_130_1306347376079_D...  extrastole   \n",
       "3       b  set_b/Btraining_extrastole_134_1306428161797_C...  extrastole   \n",
       "4       b  set_b/Btraining_extrastole_138_1306762146980_B...  extrastole   \n",
       "\n",
       "  sublabel  \n",
       "0      NaN  \n",
       "1      NaN  \n",
       "2      NaN  \n",
       "3      NaN  \n",
       "4      NaN  "
      ]
     },
     "execution_count": 46,
     "metadata": {},
     "output_type": "execute_result"
    }
   ],
   "source": [
    "meta = pd.read_csv('set_b.csv')\n",
    "meta.head()"
   ]
  },
  {
   "cell_type": "markdown",
   "metadata": {},
   "source": [
    "Load audio files and store as a list of dataframes."
   ]
  },
  {
   "cell_type": "code",
   "execution_count": 53,
   "metadata": {},
   "outputs": [],
   "source": [
    "import librosa as lr\n",
    "\n",
    "rate = 1000  # resampling rate / Hz\n",
    "\n",
    "data = []\n",
    "\n",
    "for index, row in meta.iterrows():\n",
    "    fname = row['fname']#.values[0]\n",
    "    fname = fname.replace('Btraining_','')\n",
    "    fname = fname.replace('extrastole_','extrastole__')\n",
    "    fname = fname.replace('murmur_','murmur__')\n",
    "    fname = fname.replace('normal_','normal__')\n",
    "    if( not ( fname.startswith('set_b/Bunlabelled') or \\\n",
    "              fname.startswith('set_b/murmur__noisy') or \\\n",
    "              fname.startswith('set_b/normal__noisy'))) :\n",
    "        audio, sfreq = lr.load( fname, sr=rate )\n",
    "        s = pd.Series({'label':row['label'],    # classification label\n",
    "                       'audio':audio,          # audio data as float array\n",
    "                      'length':len(audio)})   # length in ms\n",
    "        data.append(s.to_frame().T)\n",
    " "
   ]
  },
  {
   "cell_type": "code",
   "execution_count": 59,
   "metadata": {},
   "outputs": [
    {
     "data": {
      "text/plain": [
       "312"
      ]
     },
     "execution_count": 59,
     "metadata": {},
     "output_type": "execute_result"
    }
   ],
   "source": [
    "len(data)"
   ]
  },
  {
   "cell_type": "markdown",
   "metadata": {},
   "source": [
    "Convert to a single dataframe."
   ]
  },
  {
   "cell_type": "code",
   "execution_count": 62,
   "metadata": {},
   "outputs": [
    {
     "data": {
      "text/html": [
       "<div>\n",
       "<style scoped>\n",
       "    .dataframe tbody tr th:only-of-type {\n",
       "        vertical-align: middle;\n",
       "    }\n",
       "\n",
       "    .dataframe tbody tr th {\n",
       "        vertical-align: top;\n",
       "    }\n",
       "\n",
       "    .dataframe thead th {\n",
       "        text-align: right;\n",
       "    }\n",
       "</style>\n",
       "<table border=\"1\" class=\"dataframe\">\n",
       "  <thead>\n",
       "    <tr style=\"text-align: right;\">\n",
       "      <th></th>\n",
       "      <th>label</th>\n",
       "      <th>audio</th>\n",
       "      <th>length</th>\n",
       "    </tr>\n",
       "  </thead>\n",
       "  <tbody>\n",
       "    <tr>\n",
       "      <th>0</th>\n",
       "      <td>extrastole</td>\n",
       "      <td>[0.016320875, 0.02191445, 0.015383912, 0.01628...</td>\n",
       "      <td>4676</td>\n",
       "    </tr>\n",
       "    <tr>\n",
       "      <th>1</th>\n",
       "      <td>extrastole</td>\n",
       "      <td>[0.0115379, 0.0042967927, 0.006828971, 0.01598...</td>\n",
       "      <td>9237</td>\n",
       "    </tr>\n",
       "    <tr>\n",
       "      <th>2</th>\n",
       "      <td>extrastole</td>\n",
       "      <td>[-0.012741837, -0.015750436, -0.0045903595, 5....</td>\n",
       "      <td>4003</td>\n",
       "    </tr>\n",
       "    <tr>\n",
       "      <th>3</th>\n",
       "      <td>extrastole</td>\n",
       "      <td>[0.0025598854, 0.0032684598, 3.7724152e-05, -0...</td>\n",
       "      <td>2562</td>\n",
       "    </tr>\n",
       "    <tr>\n",
       "      <th>4</th>\n",
       "      <td>extrastole</td>\n",
       "      <td>[0.012491666, 0.0048830546, -0.0061410083, 0.0...</td>\n",
       "      <td>8104</td>\n",
       "    </tr>\n",
       "  </tbody>\n",
       "</table>\n",
       "</div>"
      ],
      "text/plain": [
       "        label                                              audio length\n",
       "0  extrastole  [0.016320875, 0.02191445, 0.015383912, 0.01628...   4676\n",
       "1  extrastole  [0.0115379, 0.0042967927, 0.006828971, 0.01598...   9237\n",
       "2  extrastole  [-0.012741837, -0.015750436, -0.0045903595, 5....   4003\n",
       "3  extrastole  [0.0025598854, 0.0032684598, 3.7724152e-05, -0...   2562\n",
       "4  extrastole  [0.012491666, 0.0048830546, -0.0061410083, 0.0...   8104"
      ]
     },
     "execution_count": 62,
     "metadata": {},
     "output_type": "execute_result"
    }
   ],
   "source": [
    "df = pd.concat(data).reset_index(drop=True)\n",
    "df.head()"
   ]
  },
  {
   "cell_type": "markdown",
   "metadata": {},
   "source": [
    "Save as JSON."
   ]
  },
  {
   "cell_type": "code",
   "execution_count": 63,
   "metadata": {},
   "outputs": [],
   "source": [
    "df.to_json('heartbeat.json')"
   ]
  }
 ],
 "metadata": {
  "kernelspec": {
   "display_name": "cern",
   "language": "python",
   "name": "python3"
  },
  "language_info": {
   "codemirror_mode": {
    "name": "ipython",
    "version": 3
   },
   "file_extension": ".py",
   "mimetype": "text/x-python",
   "name": "python",
   "nbconvert_exporter": "python",
   "pygments_lexer": "ipython3",
   "version": "3.8.19"
  }
 },
 "nbformat": 4,
 "nbformat_minor": 2
}
