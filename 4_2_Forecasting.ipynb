{
 "cells": [
  {
   "cell_type": "markdown",
   "id": "a32b5a90",
   "metadata": {},
   "source": [
    "# Machine Learning with Python"
   ]
  },
  {
   "cell_type": "markdown",
   "id": "8a6bdce5",
   "metadata": {},
   "source": [
    "## 4.2 Forecasting"
   ]
  },
  {
   "cell_type": "markdown",
   "id": "680cce8b",
   "metadata": {},
   "source": [
    "With time series data, we are often interested in making regression predictions for future timepoints - this is *forecasting*."
   ]
  },
  {
   "cell_type": "code",
   "execution_count": null,
   "id": "891371b1",
   "metadata": {},
   "outputs": [],
   "source": [
    "import numpy as np\n",
    "import pandas as pd\n",
    "import matplotlib.pyplot as plt"
   ]
  },
  {
   "cell_type": "code",
   "execution_count": null,
   "id": "5e301e92",
   "metadata": {},
   "outputs": [],
   "source": [
    "sun = pd.read_csv('sunspots.csv')"
   ]
  },
  {
   "cell_type": "code",
   "execution_count": null,
   "id": "4c47e0bd",
   "metadata": {},
   "outputs": [],
   "source": [
    "sun.head()"
   ]
  },
  {
   "cell_type": "code",
   "execution_count": null,
   "id": "0e33c224",
   "metadata": {},
   "outputs": [],
   "source": [
    "spots = sun['Monthly_Spots']\n",
    "plt.figure(figsize = (20, 6))\n",
    "plt.plot(np.arange(0,len(spots)),spots)\n",
    "plt.show()"
   ]
  },
  {
   "cell_type": "markdown",
   "id": "79253307",
   "metadata": {},
   "source": [
    "Let's try to predict the current number of sunspots using the ten previous months' values as features - this is an *autoregressive model*."
   ]
  },
  {
   "cell_type": "code",
   "execution_count": null,
   "id": "3a8df375",
   "metadata": {},
   "outputs": [],
   "source": [
    "shifts = np.arange(1,11)\n",
    "ten_shifts = {'lag_{}'.format(i): spots.shift(i) for i in shifts}\n",
    "ten_shifts = pd.DataFrame(ten_shifts)\n",
    "ten_shifts"
   ]
  },
  {
   "cell_type": "markdown",
   "id": "1182cd24",
   "metadata": {},
   "source": [
    "Ignoring the first ten rows (which have missing data), we will use the first 2000 months as training data and the rest as testing data."
   ]
  },
  {
   "cell_type": "code",
   "execution_count": null,
   "id": "5b996aaf",
   "metadata": {},
   "outputs": [],
   "source": [
    "X_train = ten_shifts[10:2000]\n",
    "X_test = ten_shifts[2000:]\n",
    "\n",
    "y_train = spots[10:2000]\n",
    "y_test = spots[2000:]\n"
   ]
  },
  {
   "cell_type": "code",
   "execution_count": null,
   "id": "2d9e0cc1",
   "metadata": {},
   "outputs": [],
   "source": [
    "from sklearn.ensemble import RandomForestRegressor\n",
    "\n",
    "rfc = RandomForestRegressor()\n",
    "rfc.fit(X_train,y_train)\n"
   ]
  },
  {
   "cell_type": "code",
   "execution_count": null,
   "id": "48b8e0f6",
   "metadata": {},
   "outputs": [],
   "source": [
    "from sklearn.linear_model import Ridge\n",
    "\n",
    "lm = Ridge(alpha=0.01)\n",
    "lm.fit(X_train,y_train)"
   ]
  },
  {
   "cell_type": "code",
   "execution_count": null,
   "id": "a115f6a6",
   "metadata": {},
   "outputs": [],
   "source": [
    "y_pred = lm.predict(X_test)"
   ]
  },
  {
   "cell_type": "code",
   "execution_count": null,
   "id": "cda52da8",
   "metadata": {},
   "outputs": [],
   "source": [
    "\n",
    "#fig,ax = plt.subplots()\n",
    "plt.figure(figsize = (20, 6))\n",
    "plt.plot(np.arange(0,len(y_test)),y_test)\n",
    "plt.plot(np.arange(0,len(y_pred)),y_pred)\n",
    "plt.show()"
   ]
  },
  {
   "cell_type": "markdown",
   "id": "43e132b4",
   "metadata": {},
   "source": [
    "Given the real values for the ten previous months, the predictions are matching the observed values very well."
   ]
  },
  {
   "cell_type": "code",
   "execution_count": null,
   "id": "1dd778d5",
   "metadata": {},
   "outputs": [],
   "source": [
    "from sklearn.metrics import r2_score\n",
    "r2_score(y_test,y_pred)"
   ]
  },
  {
   "cell_type": "markdown",
   "id": "bcdc3c1b",
   "metadata": {},
   "source": [
    "### Interpreting the model\n",
    "\n",
    "The model coefficients can show us information about the smoothness of the signal."
   ]
  },
  {
   "cell_type": "code",
   "execution_count": null,
   "id": "892bf931",
   "metadata": {},
   "outputs": [],
   "source": [
    "plt.bar(X_train.columns,lm.coef_)\n",
    "plt.show()"
   ]
  },
  {
   "cell_type": "markdown",
   "id": "97096c8b",
   "metadata": {},
   "source": [
    "Clearly the month immediately before has by far the strongest contribution to the prediction - after this, the coefficients are considerably smaller.\n",
    "\n",
    "If the signal were smoother then there would be more predictive value in previous months' data."
   ]
  },
  {
   "cell_type": "markdown",
   "id": "a31279d2",
   "metadata": {},
   "source": [
    "### What about cross-validation?"
   ]
  },
  {
   "cell_type": "markdown",
   "id": "a9c022c3",
   "metadata": {},
   "source": [
    "Cross-validation is possible for forecasting, but we need to be careful. If we randomly shuffle rows then we are definitely going to cross-contaminate information between the training and testing folds, often leading to an unreasonably high estimate of performance."
   ]
  },
  {
   "cell_type": "markdown",
   "id": "3a815e67",
   "metadata": {},
   "source": [
    "In general, we should only use PAST information to predict the future. There is a specific iterator for time series that deals with this properly: [TimeSeriesSplit](https://scikit-learn.org/stable/modules/generated/sklearn.model_selection.TimeSeriesSplit.html#timeseriessplit)"
   ]
  },
  {
   "cell_type": "code",
   "execution_count": null,
   "id": "37553b34",
   "metadata": {},
   "outputs": [],
   "source": [
    "from sklearn.model_selection import cross_val_score\n",
    "from sklearn.model_selection import TimeSeriesSplit\n",
    "\n",
    "# a 5-fold cross-validation, scored using r2\n",
    "score = cross_val_score( lm,\n",
    "                         X_train,\n",
    "                         y_train,\n",
    "                         cv=TimeSeriesSplit(),\n",
    "                         scoring='r2')\n",
    "print(\"Cross-validated r2:\")\n",
    "print(score)\n",
    "print(\"mean:\", np.mean(score))"
   ]
  },
  {
   "cell_type": "markdown",
   "id": "0090bb35",
   "metadata": {},
   "source": [
    "### Rolling predictions\n",
    "\n",
    "It is often interesting to see how far into the future our model can successfully predict. To do this, we can replace the *actual* lag features with *predicted* ones."
   ]
  },
  {
   "cell_type": "code",
   "execution_count": null,
   "id": "6ce7f971",
   "metadata": {},
   "outputs": [],
   "source": [
    "current_features = X_test.iloc[0]\n",
    "current_features"
   ]
  },
  {
   "cell_type": "code",
   "execution_count": null,
   "id": "0374d9e7",
   "metadata": {},
   "outputs": [],
   "source": [
    "current_pred = lm.predict(current_features.to_frame().T)\n",
    "current_pred"
   ]
  },
  {
   "cell_type": "code",
   "execution_count": null,
   "id": "e285b514",
   "metadata": {},
   "outputs": [],
   "source": [
    "next_features = current_features.shift()\n",
    "next_features[0] = current_pred\n",
    "next_features"
   ]
  },
  {
   "cell_type": "code",
   "execution_count": null,
   "id": "262b1a31",
   "metadata": {},
   "outputs": [],
   "source": [
    "predictions = []\n",
    "current_features = X_test.iloc[0]\n",
    "for i in range(len(X_test)):\n",
    "    current_pred = lm.predict(current_features.to_frame().T)\n",
    "    predictions.append(current_pred[0])\n",
    "    next_features = current_features.shift()\n",
    "    next_features[0] = current_pred\n",
    "    current_features = next_features\n",
    "\n"
   ]
  },
  {
   "cell_type": "code",
   "execution_count": null,
   "id": "854098ca",
   "metadata": {},
   "outputs": [],
   "source": [
    "plt.figure(figsize = (20, 6))\n",
    "plt.plot(np.arange(0,len(y_test)),y_test)\n",
    "plt.plot(np.arange(0,len(predictions)),predictions)\n",
    "plt.show()"
   ]
  },
  {
   "cell_type": "markdown",
   "id": "8d4e5471",
   "metadata": {},
   "source": [
    "Clearly our model is not good for predicting more than a few months ahead."
   ]
  },
  {
   "cell_type": "markdown",
   "id": "59999881",
   "metadata": {},
   "source": [
    "### Exercise\n",
    "\n",
    "Explore using different lag values to supply forecasting features for this dataset. Can we predict further into the future?"
   ]
  },
  {
   "cell_type": "code",
   "execution_count": null,
   "id": "de57b92d",
   "metadata": {},
   "outputs": [],
   "source": []
  },
  {
   "cell_type": "markdown",
   "id": "b58590e8",
   "metadata": {},
   "source": [
    "Would a sliding window help in producing smoother predictions?"
   ]
  },
  {
   "cell_type": "code",
   "execution_count": null,
   "id": "c2156081",
   "metadata": {},
   "outputs": [],
   "source": []
  }
 ],
 "metadata": {
  "kernelspec": {
   "display_name": "Python 3",
   "language": "python",
   "name": "python3"
  },
  "language_info": {
   "codemirror_mode": {
    "name": "ipython",
    "version": 3
   },
   "file_extension": ".py",
   "mimetype": "text/x-python",
   "name": "python",
   "nbconvert_exporter": "python",
   "pygments_lexer": "ipython3",
   "version": "3.8.19"
  }
 },
 "nbformat": 4,
 "nbformat_minor": 5
}
