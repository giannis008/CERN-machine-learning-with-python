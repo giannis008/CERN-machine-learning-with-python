{
 "cells": [
  {
   "cell_type": "markdown",
   "id": "db3766a8",
   "metadata": {},
   "source": [
    "# Machine Learning with Python"
   ]
  },
  {
   "cell_type": "code",
   "execution_count": null,
   "id": "916906b8",
   "metadata": {},
   "outputs": [],
   "source": [
    "import numpy as np\n",
    "import pandas as pd\n",
    "import matplotlib.pyplot as plt"
   ]
  },
  {
   "cell_type": "markdown",
   "id": "3d1a76fd",
   "metadata": {},
   "source": [
    "## 4.3 Clustering with time series."
   ]
  },
  {
   "cell_type": "markdown",
   "id": "ede63fb3",
   "metadata": {},
   "source": [
    "Here we will explore some unsupervised learning using time series data.\n",
    "\n",
    "The data are a variety of electronic signals and are labelled."
   ]
  },
  {
   "cell_type": "code",
   "execution_count": null,
   "id": "8b55ec8e",
   "metadata": {},
   "outputs": [],
   "source": [
    "trace = pd.read_csv('trace.csv')\n",
    "trace.head()"
   ]
  },
  {
   "cell_type": "markdown",
   "id": "38df5a83",
   "metadata": {},
   "source": [
    "Ignoring the first column for now, plot all of these signals on the same time axis."
   ]
  },
  {
   "cell_type": "code",
   "execution_count": null,
   "id": "4613bd0e",
   "metadata": {},
   "outputs": [],
   "source": []
  },
  {
   "cell_type": "markdown",
   "id": "417ffdfe",
   "metadata": {},
   "source": [
    "Let's look in more detail. Can you make one subplot per label to separate the different signals?"
   ]
  },
  {
   "cell_type": "code",
   "execution_count": null,
   "id": "f2646a24",
   "metadata": {},
   "outputs": [],
   "source": []
  },
  {
   "cell_type": "markdown",
   "id": "d7066c85",
   "metadata": {},
   "source": [
    "This separation of signals would be the ideal result for clustering on this dataset.\n",
    "\n",
    "Try with KMeans and evaluate your result."
   ]
  },
  {
   "cell_type": "code",
   "execution_count": null,
   "id": "8627661c",
   "metadata": {},
   "outputs": [],
   "source": []
  },
  {
   "cell_type": "markdown",
   "id": "cf949b8e",
   "metadata": {},
   "source": [
    "Visualise your clusters with one plot per cluster."
   ]
  },
  {
   "cell_type": "code",
   "execution_count": null,
   "id": "dda59e1e",
   "metadata": {},
   "outputs": [],
   "source": []
  },
  {
   "cell_type": "markdown",
   "id": "e4c31f74",
   "metadata": {},
   "source": [
    "KMeans is a blunt instrument, but we may do better if we can use a distance-based clustering that is more flexible."
   ]
  },
  {
   "cell_type": "markdown",
   "id": "a5b87a35",
   "metadata": {},
   "source": [
    "Experiment with agglomerative clustering to see if you can achieve a better result."
   ]
  },
  {
   "cell_type": "code",
   "execution_count": null,
   "id": "497a0667",
   "metadata": {},
   "outputs": [],
   "source": []
  }
 ],
 "metadata": {
  "kernelspec": {
   "display_name": "Python 3",
   "language": "python",
   "name": "python3"
  },
  "language_info": {
   "codemirror_mode": {
    "name": "ipython",
    "version": 3
   },
   "file_extension": ".py",
   "mimetype": "text/x-python",
   "name": "python",
   "nbconvert_exporter": "python",
   "pygments_lexer": "ipython3",
   "version": "3.8.-1"
  }
 },
 "nbformat": 4,
 "nbformat_minor": 5
}
