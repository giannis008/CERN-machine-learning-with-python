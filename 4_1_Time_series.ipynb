{
 "cells": [
  {
   "cell_type": "markdown",
   "id": "db3766a8",
   "metadata": {},
   "source": [
    "# Machine Learning with Python"
   ]
  },
  {
   "cell_type": "code",
   "execution_count": null,
   "id": "916906b8",
   "metadata": {},
   "outputs": [],
   "source": [
    "import numpy as np\n",
    "import pandas as pd\n",
    "import matplotlib.pyplot as plt"
   ]
  },
  {
   "cell_type": "markdown",
   "id": "3d1a76fd",
   "metadata": {},
   "source": [
    "## 4.1 Working with time series."
   ]
  },
  {
   "cell_type": "markdown",
   "id": "ede63fb3",
   "metadata": {},
   "source": [
    "Time series data is very common in many areas of research, but it offers some special challenges for machine learning."
   ]
  },
  {
   "cell_type": "markdown",
   "id": "3ede1a10",
   "metadata": {},
   "source": [
    "Our first example dataset is derived from a collection of audio (WAV) files of human heartbeats, recorded on a digital stethoscope."
   ]
  },
  {
   "cell_type": "code",
   "execution_count": null,
   "id": "a22d2d6a",
   "metadata": {},
   "outputs": [],
   "source": [
    "heart = pd.read_json('heartbeat.json')"
   ]
  },
  {
   "cell_type": "code",
   "execution_count": null,
   "id": "28e45965",
   "metadata": {},
   "outputs": [],
   "source": [
    "heart.head()"
   ]
  },
  {
   "cell_type": "markdown",
   "id": "fd3c6f56",
   "metadata": {},
   "source": [
    "Each audio clip has been resampled at 1000Hz and converted to a list of floats - these are held in the `audio` column of the dataframe. The length of the array is therefore the recording length in milliseconds."
   ]
  },
  {
   "cell_type": "markdown",
   "id": "b46e4eb3",
   "metadata": {},
   "source": [
    "Note that the recordings are of different lengths, so it is not convenient to store each timepoint in one column of the dataframe. Pandas can handle columns containing complex datatypes, but this is not easily stored in a CSV file - hence we are using JSON format in this instance."
   ]
  },
  {
   "cell_type": "markdown",
   "id": "37611b7d",
   "metadata": {},
   "source": [
    "We can easily plot each waveform:"
   ]
  },
  {
   "cell_type": "code",
   "execution_count": null,
   "id": "17a30a51",
   "metadata": {},
   "outputs": [],
   "source": [
    "row = heart.iloc[0]\n",
    "\n",
    "fig, ax = plt.subplots()\n",
    "ax.plot( np.arange(0,row['length']), row['audio'] )\n",
    "ax.set(xlabel='Time (ms)', ylabel='Sound Amplitude')\n",
    "plt.show()"
   ]
  },
  {
   "cell_type": "markdown",
   "id": "50211060",
   "metadata": {},
   "source": [
    "### Classification"
   ]
  },
  {
   "cell_type": "markdown",
   "id": "cb7372d1",
   "metadata": {},
   "source": [
    "There are three labels on the recordings showing a normal heartbeat or one of two abnormal sounds (murmur and extrastole)."
   ]
  },
  {
   "cell_type": "code",
   "execution_count": null,
   "id": "bb31ec7c",
   "metadata": {},
   "outputs": [],
   "source": [
    "heart['label'].value_counts()"
   ]
  },
  {
   "cell_type": "markdown",
   "id": "b908442f",
   "metadata": {},
   "source": [
    "To attempt classification, we will need to define some features.\n",
    "\n",
    "We can often make a good start using simple summary statistics.\n",
    "\n",
    "To begin, we will convert the audio column to use numpy arrays."
   ]
  },
  {
   "cell_type": "code",
   "execution_count": null,
   "id": "82f55276",
   "metadata": {},
   "outputs": [],
   "source": [
    "heart['audio'] = [ np.array(audio) for audio in heart['audio'] ]"
   ]
  },
  {
   "cell_type": "markdown",
   "id": "414a0857",
   "metadata": {},
   "source": [
    "and shuffle the rows."
   ]
  },
  {
   "cell_type": "code",
   "execution_count": null,
   "id": "6ec157d6",
   "metadata": {},
   "outputs": [],
   "source": [
    "heart = heart.sample(frac=1, random_state=1)"
   ]
  },
  {
   "cell_type": "markdown",
   "id": "556bf506",
   "metadata": {},
   "source": [
    "Here are a few simple summary stats for the audio data."
   ]
  },
  {
   "cell_type": "code",
   "execution_count": null,
   "id": "e82bd7f3",
   "metadata": {},
   "outputs": [],
   "source": [
    "heart['MEAN'] = heart['audio'].apply(np.mean)\n",
    "heart['MIN'] = heart['audio'].apply(np.min)\n",
    "heart['MAX'] = heart['audio'].apply(np.max)\n",
    "heart['STD'] = heart['audio'].apply(np.std)"
   ]
  },
  {
   "cell_type": "code",
   "execution_count": null,
   "id": "b681b5da",
   "metadata": {},
   "outputs": [],
   "source": [
    "heart.head()"
   ]
  },
  {
   "cell_type": "markdown",
   "id": "f35ad13c",
   "metadata": {},
   "source": [
    "Defining the features and target:"
   ]
  },
  {
   "cell_type": "code",
   "execution_count": null,
   "id": "046a667a",
   "metadata": {},
   "outputs": [],
   "source": [
    "X = heart[['MEAN','MIN','MAX','STD']]\n",
    "y = heart['label'] == 'normal'  # for a two-class problem"
   ]
  },
  {
   "cell_type": "code",
   "execution_count": null,
   "id": "b7afb67e",
   "metadata": {},
   "outputs": [],
   "source": [
    "# create a scatter matrix from the dataframe, color by y_train\n",
    "pd.plotting.scatter_matrix(X, c=y, figsize=(15, 15),\n",
    "                           marker='o', hist_kwds={'bins': 20}, s=60,\n",
    "                           alpha=.8)\n",
    "\n",
    "plt.show()"
   ]
  },
  {
   "cell_type": "markdown",
   "id": "1052cd15",
   "metadata": {},
   "source": [
    "Possibly some of the abnormal heartbeats are detectable here, but we can't do a lot better than guessing."
   ]
  },
  {
   "cell_type": "code",
   "execution_count": null,
   "id": "935afec4",
   "metadata": {},
   "outputs": [],
   "source": [
    "from sklearn.model_selection import cross_val_score\n",
    "\n",
    "from sklearn.ensemble import RandomForestClassifier\n",
    "rfc = RandomForestClassifier()\n",
    "\n",
    "# a 5-fold cross-validation, scored using AUC\n",
    "score = cross_val_score( rfc,X,y,cv=5,scoring='roc_auc' )\n",
    "print(\"AUC scores:\", score)\n",
    "print(\"mean:\", score.mean())"
   ]
  },
  {
   "cell_type": "markdown",
   "id": "e472f1e9",
   "metadata": {},
   "source": [
    "How can we obtain more meaningful features?"
   ]
  },
  {
   "cell_type": "markdown",
   "id": "125913d9",
   "metadata": {},
   "source": [
    "### Features from smoothed data"
   ]
  },
  {
   "cell_type": "markdown",
   "id": "63fe8e72",
   "metadata": {},
   "source": [
    "The *envelope* captures more relevant information by local averaging.\n",
    "It is a kind of smoothing operation, which uses a rolling window.\n",
    "\n",
    "We start with the *rectified* waveform (the absolute value):"
   ]
  },
  {
   "cell_type": "code",
   "execution_count": null,
   "id": "c0108681",
   "metadata": {},
   "outputs": [],
   "source": [
    "audio = heart.iloc[0]['audio']\n",
    "rectified = np.abs(audio)"
   ]
  },
  {
   "cell_type": "code",
   "execution_count": null,
   "id": "6e91a28e",
   "metadata": {},
   "outputs": [],
   "source": [
    "fig, ax = plt.subplots()\n",
    "ax.plot( np.arange(0,len(rectified)), rectified )\n",
    "ax.set(xlabel='Time (ms)', ylabel='Sound Amplitude')\n",
    "plt.show()"
   ]
  },
  {
   "cell_type": "markdown",
   "id": "47fb4131",
   "metadata": {},
   "source": [
    "Then we apply a sliding window of a certain size (here we are using 50ms) and calculate the mean."
   ]
  },
  {
   "cell_type": "code",
   "execution_count": null,
   "id": "21c41fd3",
   "metadata": {},
   "outputs": [],
   "source": [
    "from numpy.lib.stride_tricks import sliding_window_view\n",
    "v = sliding_window_view(rectified,50)\n",
    "smoothed = v.mean(axis=-1)"
   ]
  },
  {
   "cell_type": "code",
   "execution_count": null,
   "id": "69c325b8",
   "metadata": {},
   "outputs": [],
   "source": [
    "fig, ax = plt.subplots()\n",
    "ax.plot( np.arange(0,len(smoothed)), smoothed )\n",
    "ax.set(xlabel='Time (ms)', ylabel='Sound Amplitude')\n",
    "plt.show()"
   ]
  },
  {
   "cell_type": "markdown",
   "id": "28a37da7",
   "metadata": {},
   "source": [
    "We can then extract summary statistics for the smoothed envelope - these are likely to be more informative than those for the original noisy data."
   ]
  },
  {
   "cell_type": "code",
   "execution_count": null,
   "id": "3d4a477b",
   "metadata": {},
   "outputs": [],
   "source": [
    "def envelope(x) :\n",
    "  rectified = np.abs(x)\n",
    "  v = sliding_window_view(rectified,50)\n",
    "  return v.mean(axis=-1)"
   ]
  },
  {
   "cell_type": "code",
   "execution_count": null,
   "id": "fb5780d2",
   "metadata": {},
   "outputs": [],
   "source": [
    "heart['env'] = heart['audio'].apply(envelope)"
   ]
  },
  {
   "cell_type": "code",
   "execution_count": null,
   "id": "e3458626",
   "metadata": {},
   "outputs": [],
   "source": [
    "heart['env_MEAN'] = heart['env'].apply(np.mean)\n",
    "heart['env_MIN'] = heart['env'].apply(np.min)\n",
    "heart['env_MAX'] = heart['env'].apply(np.max)\n",
    "heart['env_STD'] = heart['env'].apply(np.std)"
   ]
  },
  {
   "cell_type": "code",
   "execution_count": null,
   "id": "47748fc1",
   "metadata": {},
   "outputs": [],
   "source": [
    "heart.head()"
   ]
  },
  {
   "cell_type": "code",
   "execution_count": null,
   "id": "86249460",
   "metadata": {},
   "outputs": [],
   "source": [
    "X2 = heart[['env_MEAN','env_MIN','env_MAX','env_STD']]"
   ]
  },
  {
   "cell_type": "code",
   "execution_count": null,
   "id": "5490004e",
   "metadata": {},
   "outputs": [],
   "source": [
    "# create a scatter matrix from the dataframe, color by y_train\n",
    "pd.plotting.scatter_matrix(X2, c=y, figsize=(15, 15),\n",
    "                           marker='o', hist_kwds={'bins': 20}, s=60,\n",
    "                           alpha=.8)\n",
    "\n",
    "plt.show()"
   ]
  },
  {
   "cell_type": "code",
   "execution_count": null,
   "id": "c4586a56",
   "metadata": {},
   "outputs": [],
   "source": [
    "# a 5-fold cross-validation, scored using AUC\n",
    "score = cross_val_score( rfc,X2,y,cv=5,scoring='roc_auc' )\n",
    "print(\"AUC scores:\", score)\n",
    "print(\"mean:\", score.mean())"
   ]
  },
  {
   "cell_type": "markdown",
   "id": "94d00af9",
   "metadata": {},
   "source": [
    "### Spectral features\n",
    "\n",
    "For audio data, as well as many other time series, the frequency spectrum carries a lot of important information.\n",
    "\n",
    "There are many advanced analysis techniques making use of Fourier-transformed time series. "
   ]
  },
  {
   "cell_type": "code",
   "execution_count": null,
   "id": "2a5f7f1f",
   "metadata": {},
   "outputs": [],
   "source": [
    "audio = heart.iloc[0]['audio']\n",
    "ft = np.fft.rfft(audio)"
   ]
  },
  {
   "cell_type": "code",
   "execution_count": null,
   "id": "8662647b",
   "metadata": {},
   "outputs": [],
   "source": [
    "fig, ax = plt.subplots()\n",
    "ax.plot( np.arange(0,len(ft)), ft.real )\n",
    "ax.set(xlabel='Frequency', ylabel='Amplitude')\n",
    "plt.show()"
   ]
  },
  {
   "cell_type": "markdown",
   "id": "71df4cfb",
   "metadata": {},
   "source": [
    "The centroid of the frequency spectrum is one useful summary - this is the weighted mean of frequency:"
   ]
  },
  {
   "cell_type": "code",
   "execution_count": null,
   "id": "f069b83a",
   "metadata": {},
   "outputs": [],
   "source": [
    "sfx = np.sum( np.abs(ft.real) * np.arange(0,len(ft)))\n",
    "sx = np.sum( np.abs(ft.real) )\n",
    "sfx / sx"
   ]
  },
  {
   "cell_type": "markdown",
   "id": "26812804",
   "metadata": {},
   "source": [
    "We can follow this over a rolling window (once again using a window of size 50ms):"
   ]
  },
  {
   "cell_type": "code",
   "execution_count": null,
   "id": "f995fdfc",
   "metadata": {},
   "outputs": [],
   "source": [
    "def centroid(x) :\n",
    "  v = sliding_window_view(x,50)\n",
    "  ft = np.fft.rfft(v)\n",
    "  sfx = np.sum( np.abs(ft.real) * np.arange(0,ft.shape[1]), axis=-1 )\n",
    "  sx = np.sum( np.abs(ft.real), axis=-1 )\n",
    "  return sfx/sx"
   ]
  },
  {
   "cell_type": "code",
   "execution_count": null,
   "id": "0268bbab",
   "metadata": {},
   "outputs": [],
   "source": [
    "ct = centroid(audio)\n",
    "ct"
   ]
  },
  {
   "cell_type": "code",
   "execution_count": null,
   "id": "bff578d2",
   "metadata": {},
   "outputs": [],
   "source": [
    "fig, ax = plt.subplots()\n",
    "ax.plot( np.arange(0,len(ct)), ct )\n",
    "#ax.set(xlabel='Time (ms)', ylabel='Sound Amplitude')\n",
    "plt.show()"
   ]
  },
  {
   "cell_type": "markdown",
   "id": "9d2d744a",
   "metadata": {},
   "source": [
    "As before, we can extract summary statistics from these plots."
   ]
  },
  {
   "cell_type": "code",
   "execution_count": null,
   "id": "6817e9c1",
   "metadata": {},
   "outputs": [],
   "source": [
    "heart['centroid'] = heart['audio'].apply(centroid)"
   ]
  },
  {
   "cell_type": "code",
   "execution_count": null,
   "id": "6181f285",
   "metadata": {},
   "outputs": [],
   "source": [
    "heart['centroid_MEAN'] = heart['centroid'].apply(np.mean)\n",
    "heart['centroid_MIN'] = heart['centroid'].apply(np.min)\n",
    "heart['centroid_MAX'] = heart['centroid'].apply(np.max)\n",
    "heart['centroid_STD'] = heart['centroid'].apply(np.std)"
   ]
  },
  {
   "cell_type": "code",
   "execution_count": null,
   "id": "380dcd33",
   "metadata": {},
   "outputs": [],
   "source": [
    "X3 = heart[['centroid_MEAN','centroid_MIN','centroid_MAX','centroid_STD']]"
   ]
  },
  {
   "cell_type": "code",
   "execution_count": null,
   "id": "44c1a051",
   "metadata": {},
   "outputs": [],
   "source": [
    "# create a scatter matrix from the dataframe, color by y_train\n",
    "pd.plotting.scatter_matrix(X3, c=y, figsize=(15, 15),\n",
    "                           marker='o', hist_kwds={'bins': 20}, s=60,\n",
    "                           alpha=.8)\n",
    "\n",
    "plt.show()"
   ]
  },
  {
   "cell_type": "code",
   "execution_count": null,
   "id": "c9888715",
   "metadata": {},
   "outputs": [],
   "source": [
    "# a 5-fold cross-validation, scored using AUC\n",
    "score = cross_val_score( rfc,X3,y,cv=5,scoring='roc_auc' )\n",
    "print(\"AUC scores:\", score)\n",
    "print(\"mean:\", score.mean())"
   ]
  },
  {
   "cell_type": "markdown",
   "id": "2834d3f8",
   "metadata": {},
   "source": [
    "By combining a variety of complex features, our classifier starts to look more useful:"
   ]
  },
  {
   "cell_type": "code",
   "execution_count": null,
   "id": "88a03067",
   "metadata": {},
   "outputs": [],
   "source": [
    "X4 = pd.concat([X,X2,X3],axis=1)"
   ]
  },
  {
   "cell_type": "code",
   "execution_count": null,
   "id": "8bf8676f",
   "metadata": {},
   "outputs": [],
   "source": [
    "X4.head()"
   ]
  },
  {
   "cell_type": "code",
   "execution_count": null,
   "id": "a023030c",
   "metadata": {},
   "outputs": [],
   "source": [
    "# a 5-fold cross-validation, scored using AUC\n",
    "score = cross_val_score( rfc,X4,y,cv=5,scoring='roc_auc' )\n",
    "print(\"AUC scores:\", score)\n",
    "print(\"mean:\", score.mean())"
   ]
  },
  {
   "cell_type": "markdown",
   "id": "925e9368",
   "metadata": {},
   "source": [
    "### Exercise\n"
   ]
  },
  {
   "cell_type": "markdown",
   "id": "013d1e76",
   "metadata": {},
   "source": [
    "\n",
    "\n",
    "We have already eliminated the high-frequency noise using the smoothed envelopes. Try applying the FFT to these series to obtain a further set of features. Does this help with classification?"
   ]
  },
  {
   "cell_type": "code",
   "execution_count": null,
   "id": "4b447ed0",
   "metadata": {},
   "outputs": [],
   "source": []
  },
  {
   "cell_type": "markdown",
   "id": "dbc493ce",
   "metadata": {},
   "source": [
    "Have a look at some examples of the two abnormal heartbeat patterns and compare to the normal ones. Can you come up with any additional summary features that might be informative in classification?"
   ]
  },
  {
   "cell_type": "code",
   "execution_count": null,
   "id": "8b55ec8e",
   "metadata": {},
   "outputs": [],
   "source": []
  },
  {
   "cell_type": "markdown",
   "id": "12029913",
   "metadata": {},
   "source": []
  }
 ],
 "metadata": {
  "kernelspec": {
   "display_name": "Python 3",
   "language": "python",
   "name": "python3"
  },
  "language_info": {
   "codemirror_mode": {
    "name": "ipython",
    "version": 3
   },
   "file_extension": ".py",
   "mimetype": "text/x-python",
   "name": "python",
   "nbconvert_exporter": "python",
   "pygments_lexer": "ipython3",
   "version": "3.8.19"
  }
 },
 "nbformat": 4,
 "nbformat_minor": 5
}
