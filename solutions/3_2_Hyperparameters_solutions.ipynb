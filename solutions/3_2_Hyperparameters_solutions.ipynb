{
 "cells": [
  {
   "cell_type": "markdown",
   "metadata": {},
   "source": [
    "# Machine Learning with Python"
   ]
  },
  {
   "cell_type": "code",
   "execution_count": 1,
   "metadata": {},
   "outputs": [],
   "source": [
    "import numpy as np\n",
    "import matplotlib.pyplot as plt\n",
    "import pandas as pd"
   ]
  },
  {
   "cell_type": "markdown",
   "metadata": {},
   "source": [
    "### Exercise"
   ]
  },
  {
   "cell_type": "markdown",
   "metadata": {},
   "source": [
    "\n",
    "Multi-layer perceptrons are sensitive to feature scaling, so it is highly recommended to scale your data. Using a pipeline, investigate whether scaling affects performance of an [MLPRegressor](https://scikit-learn.org/stable/modules/generated/sklearn.neural_network.MLPRegressor.html#mlpregressor) on the `wine_quality_white` dataset.\n"
   ]
  },
  {
   "cell_type": "code",
   "execution_count": 55,
   "metadata": {},
   "outputs": [],
   "source": [
    "from sklearn.datasets import fetch_openml\n",
    "w = fetch_openml(name='wine-quality-white',version=1,parser='auto')\n",
    "\n",
    "from sklearn.model_selection import train_test_split\n",
    "X_train, X_test, y_train, y_test = train_test_split(w.data.to_numpy(), \n",
    "                                                    w.target.to_numpy().astype(int), \n",
    "                                                    random_state=0)\n"
   ]
  },
  {
   "cell_type": "code",
   "execution_count": null,
   "metadata": {},
   "outputs": [],
   "source": []
  },
  {
   "cell_type": "markdown",
   "metadata": {},
   "source": [
    "The MLPRegressor has a lot of tunable hyperparameters. \n",
    "\n",
    "* `hidden_layer_sizes`\n",
    "* `activation`\n",
    "* `solver`\n",
    "* `alpha`\n",
    "* `learning_rate`\n",
    "* ...\n",
    "\n",
    "Use GridSearchCV to try to optimise its performance on this dataset (choose a few of the parameters to explore).\n",
    "\n",
    "Note that when different solvers have different parameter options, we can provide `GridSearchCV` with a list of dictionaries instead of a single dictionary. See [this example](https://scikit-learn.org/stable/auto_examples/neural_networks/plot_mlp_training_curves.html#sphx-glr-auto-examples-neural-networks-plot-mlp-training-curves-py) for details."
   ]
  },
  {
   "cell_type": "code",
   "execution_count": 60,
   "metadata": {},
   "outputs": [],
   "source": [
    "from sklearn.neural_network import MLPRegressor\n",
    "pipe = Pipeline([# ('scaling', StandardScaler()),\n",
    "                   ('predict', MLPRegressor())])"
   ]
  },
  {
   "cell_type": "code",
   "execution_count": 1,
   "metadata": {},
   "outputs": [
    {
     "ename": "NameError",
     "evalue": "name 'GridSearchCV' is not defined",
     "output_type": "error",
     "traceback": [
      "\u001b[0;31m---------------------------------------------------------------------------\u001b[0m",
      "\u001b[0;31mNameError\u001b[0m                                 Traceback (most recent call last)",
      "Cell \u001b[0;32mIn[1], line 28\u001b[0m\n\u001b[1;32m      3\u001b[0m ALPHA \u001b[38;5;241m=\u001b[39m [\u001b[38;5;241m0.0001\u001b[39m,\u001b[38;5;241m0.001\u001b[39m]\n\u001b[1;32m      5\u001b[0m parameters \u001b[38;5;241m=\u001b[39m [\n\u001b[1;32m      6\u001b[0m {\n\u001b[1;32m      7\u001b[0m     \u001b[38;5;124m'\u001b[39m\u001b[38;5;124mpredict__solver\u001b[39m\u001b[38;5;124m'\u001b[39m:[\u001b[38;5;124m'\u001b[39m\u001b[38;5;124mlbfgs\u001b[39m\u001b[38;5;124m'\u001b[39m],\n\u001b[0;32m   (...)\u001b[0m\n\u001b[1;32m     25\u001b[0m \n\u001b[1;32m     26\u001b[0m ]\n\u001b[0;32m---> 28\u001b[0m gs \u001b[38;5;241m=\u001b[39m \u001b[43mGridSearchCV\u001b[49m(pipe, \n\u001b[1;32m     29\u001b[0m                   parameters, \n\u001b[1;32m     30\u001b[0m                   cv\u001b[38;5;241m=\u001b[39m\u001b[38;5;241m5\u001b[39m,\n\u001b[1;32m     31\u001b[0m                   scoring\u001b[38;5;241m=\u001b[39m\u001b[38;5;124m'\u001b[39m\u001b[38;5;124mr2\u001b[39m\u001b[38;5;124m'\u001b[39m\n\u001b[1;32m     32\u001b[0m                   )\n\u001b[1;32m     33\u001b[0m gs\u001b[38;5;241m.\u001b[39mfit(X_train,y_train)\n",
      "\u001b[0;31mNameError\u001b[0m: name 'GridSearchCV' is not defined"
     ]
    }
   ],
   "source": [
    "LAYERS = [(10),(10,10)]\n",
    "ACTIVATION = ['logistic','relu']\n",
    "ALPHA = [0.0001,0.001]\n",
    "\n",
    "parameters = [\n",
    "{\n",
    "    'predict__solver':['lbfgs'],\n",
    "    'predict__hidden_layer_sizes':LAYERS,\n",
    "    'predict__activation':ACTIVATION,\n",
    "    'predict__alpha':ALPHA\n",
    "},\n",
    "{\n",
    "    'predict__solver':['sgd'],\n",
    "    'predict__hidden_layer_sizes':LAYERS,\n",
    "    'predict__activation':ACTIVATION,\n",
    "    'predict__alpha':ALPHA ,\n",
    "    'predict__learning_rate':['invscaling','adaptive']\n",
    "},\n",
    "{\n",
    "    'predict__solver':['adam'],\n",
    "    'predict__hidden_layer_sizes':LAYERS,\n",
    "    'predict__activation':ACTIVATION,\n",
    "    'predict__alpha':ALPHA \n",
    "}\n",
    "\n",
    "]\n",
    "\n",
    "gs = GridSearchCV(pipe, \n",
    "                  parameters, \n",
    "                  cv=5,\n",
    "                  scoring='r2'\n",
    "                  )\n",
    "gs.fit(X_train,y_train)"
   ]
  },
  {
   "cell_type": "markdown",
   "metadata": {},
   "source": []
  }
 ],
 "metadata": {
  "kernelspec": {
   "display_name": "cern",
   "language": "python",
   "name": "python3"
  },
  "language_info": {
   "codemirror_mode": {
    "name": "ipython",
    "version": 3
   },
   "file_extension": ".py",
   "mimetype": "text/x-python",
   "name": "python",
   "nbconvert_exporter": "python",
   "pygments_lexer": "ipython3",
   "version": "3.8.19"
  }
 },
 "nbformat": 4,
 "nbformat_minor": 2
}
